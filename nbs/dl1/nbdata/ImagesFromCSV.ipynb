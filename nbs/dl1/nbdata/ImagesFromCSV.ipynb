{
 "cells": [
  {
   "cell_type": "code",
   "execution_count": 4,
   "metadata": {},
   "outputs": [],
   "source": [
    "# -*- coding: utf-8 -*-\n",
    "\n",
    "import os\n",
    "import sys\n",
    "import cv2\n",
    "import numpy as np"
   ]
  },
  {
   "cell_type": "code",
   "execution_count": 6,
   "metadata": {},
   "outputs": [
    {
     "ename": "SyntaxError",
     "evalue": "invalid syntax (<ipython-input-6-0d57223b6c11>, line 3)",
     "output_type": "error",
     "traceback": [
      "\u001b[0;36m  File \u001b[0;32m\"<ipython-input-6-0d57223b6c11>\"\u001b[0;36m, line \u001b[0;32m3\u001b[0m\n\u001b[0;31m    if len(sys.argv) &lt; 2:\u001b[0m\n\u001b[0m                        ^\u001b[0m\n\u001b[0;31mSyntaxError\u001b[0m\u001b[0;31m:\u001b[0m invalid syntax\n"
     ]
    }
   ],
   "source": [
    "def main():\n",
    "\n",
    "    if len(sys.argv) &lt; 2:\n",
    "\n",
    "        print 'Usage: python cv_to_img.py [output_path]\n",
    "\n",
    "    return -1\n",
    "\n",
    "    output_path = sys.argv[1]`\n",
    "\n",
    "    if os.path.exists(output_path):\n",
    "\n",
    "        os.system('rm -rf {}'.format(output_path))\n",
    "\n",
    "    os.system('mkdir {}'.format(output_path))\n",
    "\n",
    "    label_names = ['Angry', 'Disgust', 'Fear', 'Happy', 'Sad', 'Surprise', 'Neutral']\n",
    "    #data = pd.read_csv('fer2013.csv', delimiter=',')\n",
    "    data = np.genfromtxt('fer2013.csv',delimiter=',',dtype=None)\n",
    "\n",
    "    labels = data[1:,0].astype(np.int32)\n",
    "    image_buffer = data[1:,1]\n",
    "    images = np.array([np.fromstring(image, np.uint8, sep=' ') for image in image_buffer])\n",
    "    usage = data[1:,2]\n",
    "    dataset = zip(labels, images, usage)\n",
    "    for i, d in enumerate(dataset):\n",
    "        usage_path = os.path.join(output_path, d[-1])\n",
    "        label_path = os.path.join(usage_path, label_names[d[0]])\n",
    "        img = d[1].reshape((48,48))\n",
    "        img_name = '%08d.jpg' % i\n",
    "        img_path = os.path.join(label_path, img_name)\n",
    "        if not os.path.exists(usage_path):\n",
    "            os.system('mkdir {}'.format(usage_path))\n",
    "        if not os.path.exists(label_path):\n",
    "            os.system('mkdir {}'.format(label_path))\n",
    "        cv2.imwrite(img_path, img)\n",
    "        print 'Write {}'.format(img_path)"
   ]
  },
  {
   "cell_type": "code",
   "execution_count": 7,
   "metadata": {},
   "outputs": [
    {
     "ename": "NameError",
     "evalue": "name 'main' is not defined",
     "output_type": "error",
     "traceback": [
      "\u001b[0;31m---------------------------------------------------------------------------\u001b[0m",
      "\u001b[0;31mNameError\u001b[0m                                 Traceback (most recent call last)",
      "\u001b[0;32m<ipython-input-7-c7bc734e5e35>\u001b[0m in \u001b[0;36m<module>\u001b[0;34m\u001b[0m\n\u001b[1;32m      1\u001b[0m \u001b[0;32mif\u001b[0m \u001b[0m__name__\u001b[0m \u001b[0;34m==\u001b[0m \u001b[0;34m'__main__'\u001b[0m\u001b[0;34m:\u001b[0m\u001b[0;34m\u001b[0m\u001b[0m\n\u001b[0;32m----> 2\u001b[0;31m     \u001b[0mmain\u001b[0m\u001b[0;34m(\u001b[0m\u001b[0;34m)\u001b[0m\u001b[0;34m\u001b[0m\u001b[0m\n\u001b[0m",
      "\u001b[0;31mNameError\u001b[0m: name 'main' is not defined"
     ]
    }
   ],
   "source": [
    "if __name__ == '__main__':\n",
    "    main()"
   ]
  },
  {
   "cell_type": "code",
   "execution_count": null,
   "metadata": {},
   "outputs": [],
   "source": []
  }
 ],
 "metadata": {
  "kernelspec": {
   "display_name": "Python 3",
   "language": "python",
   "name": "python3"
  },
  "language_info": {
   "codemirror_mode": {
    "name": "ipython",
    "version": 3
   },
   "file_extension": ".py",
   "mimetype": "text/x-python",
   "name": "python",
   "nbconvert_exporter": "python",
   "pygments_lexer": "ipython3",
   "version": "3.6.5"
  }
 },
 "nbformat": 4,
 "nbformat_minor": 2
}
