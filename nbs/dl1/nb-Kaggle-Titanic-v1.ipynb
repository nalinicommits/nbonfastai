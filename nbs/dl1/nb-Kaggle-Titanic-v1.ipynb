{
 "cells": [
  {
   "cell_type": "markdown",
   "metadata": {},
   "source": [
    "# Kaggle Titanic Survivor Predictions"
   ]
  },
  {
   "cell_type": "code",
   "execution_count": 1,
   "metadata": {},
   "outputs": [],
   "source": [
    "from fastai.tabular import *"
   ]
  },
  {
   "cell_type": "markdown",
   "metadata": {},
   "source": [
    "## Download data from Kaggle competition page"
   ]
  },
  {
   "cell_type": "markdown",
   "metadata": {},
   "source": [
    "Step 1: Fetch/download data from Kaggle website. Using instructions from Lesson 3 (copied here for reference)."
   ]
  },
  {
   "cell_type": "markdown",
   "metadata": {},
   "source": [
    "First, install the Kaggle API by uncommenting the following line and executing it, or by executing it in your terminal (depending on your platform you may need to modify this slightly to either add source activate fastai or similar, or prefix pip with a path. Have a look at how conda install is called for your platform in the appropriate Returning to work section of https://course.fast.ai/. (Depending on your environment, you may also need to append \"--user\" to the command.)"
   ]
  },
  {
   "cell_type": "code",
   "execution_count": 1,
   "metadata": {},
   "outputs": [
    {
     "name": "stdout",
     "output_type": "stream",
     "text": [
      "Collecting kaggle\n",
      "\u001b[?25l  Downloading https://files.pythonhosted.org/packages/80/4d/fc83980735a7a2e3aaba1ed755462e839c68ba51ac311efdb1ab413a4eeb/kaggle-1.5.2.tar.gz (54kB)\n",
      "\u001b[K    100% |████████████████████████████████| 61kB 30.1MB/s ta 0:00:01\n",
      "\u001b[?25hCollecting urllib3<1.23.0,>=1.15 (from kaggle)\n",
      "\u001b[?25l  Downloading https://files.pythonhosted.org/packages/63/cb/6965947c13a94236f6d4b8223e21beb4d576dc72e8130bd7880f600839b8/urllib3-1.22-py2.py3-none-any.whl (132kB)\n",
      "\u001b[K    100% |████████████████████████████████| 133kB 50.8MB/s ta 0:00:01\n",
      "\u001b[?25hRequirement not upgraded as not directly required: six>=1.10 in /opt/anaconda3/lib/python3.7/site-packages (from kaggle) (1.11.0)\n",
      "Requirement not upgraded as not directly required: certifi in /opt/anaconda3/lib/python3.7/site-packages (from kaggle) (2018.11.29)\n",
      "Requirement not upgraded as not directly required: python-dateutil in /opt/anaconda3/lib/python3.7/site-packages (from kaggle) (2.7.5)\n",
      "Requirement not upgraded as not directly required: requests in /opt/anaconda3/lib/python3.7/site-packages (from kaggle) (2.19.1)\n",
      "Requirement not upgraded as not directly required: tqdm in /opt/anaconda3/lib/python3.7/site-packages (from kaggle) (4.26.0)\n",
      "Collecting python-slugify (from kaggle)\n",
      "  Downloading https://files.pythonhosted.org/packages/1f/9c/8b07d625e9c9df567986d887f0375075abb1923e49d074a7803cd1527dae/python-slugify-2.0.1.tar.gz\n",
      "Requirement not upgraded as not directly required: chardet<3.1.0,>=3.0.2 in /opt/anaconda3/lib/python3.7/site-packages (from requests->kaggle) (3.0.4)\n",
      "Requirement not upgraded as not directly required: idna<2.8,>=2.5 in /opt/anaconda3/lib/python3.7/site-packages (from requests->kaggle) (2.7)\n",
      "Collecting Unidecode>=0.04.16 (from python-slugify->kaggle)\n",
      "\u001b[?25l  Downloading https://files.pythonhosted.org/packages/31/39/53096f9217b057cb049fe872b7fc7ce799a1a89b76cf917d9639e7a558b5/Unidecode-1.0.23-py2.py3-none-any.whl (237kB)\n",
      "\u001b[K    100% |████████████████████████████████| 245kB 49.2MB/s ta 0:00:01\n",
      "\u001b[?25hBuilding wheels for collected packages: kaggle, python-slugify\n",
      "  Running setup.py bdist_wheel for kaggle ... \u001b[?25ldone\n",
      "\u001b[?25h  Stored in directory: /home/jupyter/.cache/pip/wheels/0d/58/eb/83d6a2e1935aff39d341ffa1e5faa3809e173cd0937e057d83\n",
      "  Running setup.py bdist_wheel for python-slugify ... \u001b[?25ldone\n",
      "\u001b[?25h  Stored in directory: /home/jupyter/.cache/pip/wheels/2b/9e/c8/14a18ab55d8f144384de8186a3df8401dcc9264936f71d470f\n",
      "Successfully built kaggle python-slugify\n",
      "\u001b[31mtwisted 18.7.0 requires PyHamcrest>=1.9.0, which is not installed.\u001b[0m\n",
      "\u001b[31mfastai 1.0.42 requires nvidia-ml-py3, which is not installed.\u001b[0m\n",
      "\u001b[31mjupyter-console 5.2.0 has requirement prompt-toolkit<2.0.0,>=1.0.0, but you'll have prompt-toolkit 2.0.7 which is incompatible.\u001b[0m\n",
      "Installing collected packages: urllib3, Unidecode, python-slugify, kaggle\n",
      "  Found existing installation: urllib3 1.23\n",
      "    Uninstalling urllib3-1.23:\n",
      "      Successfully uninstalled urllib3-1.23\n",
      "Successfully installed Unidecode-1.0.23 kaggle-1.5.2 python-slugify-2.0.1 urllib3-1.22\n",
      "\u001b[33mYou are using pip version 10.0.1, however version 19.0.1 is available.\n",
      "You should consider upgrading via the 'pip install --upgrade pip' command.\u001b[0m\n"
     ]
    }
   ],
   "source": [
    "# install kaggle apis first\n",
    "#! pip install kaggle --upgrade"
   ]
  },
  {
   "cell_type": "markdown",
   "metadata": {},
   "source": [
    "Then you need to upload your credentials from Kaggle on your instance. Login to kaggle and click on your profile picture on the top left corner, then 'My account'. Scroll down until you find a button named 'Create New API Token' and click on it. This will trigger the download of a file named 'kaggle.json'.\n",
    "\n",
    "Upload this file to the directory this notebook is running in, by clicking \"Upload\" on your main Jupyter page, then uncomment and execute the next two commands (or run them in a terminal)."
   ]
  },
  {
   "cell_type": "code",
   "execution_count": 2,
   "metadata": {},
   "outputs": [],
   "source": [
    "# double check - have you uploaded the latest/valid API token file to working directory?\n",
    "# ok then... now setting up credentials\n",
    "#! mkdir -p ~/.kaggle/\n",
    "#! mv kaggle.json ~/.kaggle/"
   ]
  },
  {
   "cell_type": "markdown",
   "metadata": {},
   "source": [
    "You're all set to download the data from [titanic competition](https://www.kaggle.com/c/titanic). You **first need to go to its main page and accept its rules**, and run the two cells below (uncomment the shell commands to download and unzip the data). If you get a `403 forbidden` error it means you haven't accepted the competition rules yet (you have to go to the competition page, click on *Rules* tab, and then scroll to the bottom to find the *accept* button)."
   ]
  },
  {
   "cell_type": "code",
   "execution_count": 2,
   "metadata": {},
   "outputs": [
    {
     "data": {
      "text/plain": [
       "PosixPath('/home/jupyter/.fastai/data/titanic')"
      ]
     },
     "execution_count": 2,
     "metadata": {},
     "output_type": "execute_result"
    }
   ],
   "source": [
    "#Setup local directory to receive the dataset\n",
    "path = Config.data_path()/'titanic'\n",
    "path.mkdir(parents=True, exist_ok=True)\n",
    "path"
   ]
  },
  {
   "cell_type": "code",
   "execution_count": 6,
   "metadata": {},
   "outputs": [
    {
     "name": "stdout",
     "output_type": "stream",
     "text": [
      "Warning: Your Kaggle API key is readable by other users on this system! To fix this, you can run 'chmod 600 /home/jupyter/.kaggle/kaggle.json'\n",
      "Downloading train.csv to /home/jupyter/.fastai/data/titanic\n",
      "  0%|                                               | 0.00/59.8k [00:00<?, ?B/s]\n",
      "100%|██████████████████████████████████████| 59.8k/59.8k [00:00<00:00, 43.2MB/s]\n",
      "Warning: Your Kaggle API key is readable by other users on this system! To fix this, you can run 'chmod 600 /home/jupyter/.kaggle/kaggle.json'\n",
      "Downloading test.csv to /home/jupyter/.fastai/data/titanic\n",
      "  0%|                                               | 0.00/28.0k [00:00<?, ?B/s]\n",
      "100%|██████████████████████████████████████| 28.0k/28.0k [00:00<00:00, 21.0MB/s]\n"
     ]
    }
   ],
   "source": [
    "# initiate download of data - replace with appropriate competition string - examples below\n",
    "# ! kaggle competitions download -c planet-understanding-the-amazon-from-space -f train-jpg.tar.7z -p {path}  \n",
    "# ! kaggle competitions download -c planet-understanding-the-amazon-from-space -f train_v2.csv -p {path}  \n",
    "# ! unzip -q -n {path}/train_v2.csv.zip -d {path}\n",
    "\n",
    "#! kaggle competitions download -c titanic -f train.csv -p {path}\n",
    "#! kaggle competitions download -c titanic -f test.csv -p {path}"
   ]
  },
  {
   "cell_type": "markdown",
   "metadata": {},
   "source": [
    "If your test data has 7z zip files you will also need to install the 7zip utility. You can do this on command line (sudo apt install p7zip) or run these commands to install and unzip:"
   ]
  },
  {
   "cell_type": "code",
   "execution_count": null,
   "metadata": {},
   "outputs": [],
   "source": [
    "# Note: Run these only if you have 7zip files in the data and need to unpack them\n",
    "#! conda install -y -c haasad eidl7zip\n",
    "#! 7za -bd -y -so x {path}/train-jpg.tar.7z | tar xf - -C {path}"
   ]
  },
  {
   "cell_type": "markdown",
   "metadata": {},
   "source": [
    "## Setup data for analysis and training - Using Pandas"
   ]
  },
  {
   "cell_type": "markdown",
   "metadata": {},
   "source": [
    "The Python Pandas library allows easy operations on tabular and time series data. It uses a DataFrame object to provide access to and execute operations on the data. First step is to move csv data into a pandas dataframe."
   ]
  },
  {
   "cell_type": "code",
   "execution_count": 3,
   "metadata": {},
   "outputs": [],
   "source": [
    "# read in the training data first\n",
    "traindf = pd.read_csv(path/'train.csv')"
   ]
  },
  {
   "cell_type": "code",
   "execution_count": 4,
   "metadata": {},
   "outputs": [],
   "source": [
    "# also read in the test data\n",
    "testdf = pd.read_csv(path/'test.csv')"
   ]
  },
  {
   "cell_type": "markdown",
   "metadata": {},
   "source": [
    "Print out the train and test df and explore a little before converting into fastai data formats. But first let's understand the data from the Kaggle info."
   ]
  },
  {
   "cell_type": "markdown",
   "metadata": {},
   "source": [
    "Here are the columns provided in the datasets:\n",
    "1. PassengerId - Numeric - type should be integers\n",
    "2. Survived - Numeric/Binary - Survived (1) or Not (0)\n",
    "3. Pclass - Numeric - Class of Travel (1 = 1st, 2 = 2nd, 3 = 3rd)\n",
    "4. Name - String - Name of Passenger\n",
    "5. Sex - String - Gender (M/F)\n",
    "6. Age - Numeric - Age of Passengers in Years (can be fractional or estimated \"xx.\")\n",
    "7. SibSp - String - Number of Sibling/Spouse aboard\n",
    "8. Parch - Numeric - Number of Parent/Child aboard\n",
    "9. Ticket - String - Actual Ticket number\n",
    "10. Fare - Numeric - Cost of ticket\n",
    "11. Cabin - String - Cabin number/name\n",
    "12. Embarked - String - The port in which a passenger has embarked. C - Cherbourg, S - Southampton, Q = Queenstown\n",
    "\n",
    "Notes to keep in mind:\n",
    "pclass: A proxy for socio-economic status (SES)\n",
    "1st = Upper\n",
    "2nd = Middle\n",
    "3rd = Lower\n",
    "\n",
    "sibsp: The dataset defines family relations in this way...\n",
    "Sibling = brother, sister, stepbrother, stepsister\n",
    "Spouse = husband, wife (mistresses and fiancés were ignored)\n",
    "For some reason Kaggle gives this as string; though entries are numeric.\n",
    "\n",
    "parch: The dataset defines family relations in this way...\n",
    "Parent = mother, father\n",
    "Child = daughter, son, stepdaughter, stepson\n",
    "Some children travelled only with a nanny, therefore parch=0 for them."
   ]
  },
  {
   "cell_type": "code",
   "execution_count": 5,
   "metadata": {},
   "outputs": [
    {
     "name": "stdout",
     "output_type": "stream",
     "text": [
      "(891, 12)\n",
      "(418, 11)\n"
     ]
    }
   ],
   "source": [
    "print(traindf.shape)\n",
    "print(testdf.shape)"
   ]
  },
  {
   "cell_type": "code",
   "execution_count": 6,
   "metadata": {},
   "outputs": [
    {
     "name": "stdout",
     "output_type": "stream",
     "text": [
      "RangeIndex(start=0, stop=418, step=1)\n",
      "Index(['PassengerId', 'Survived', 'Pclass', 'Name', 'Sex', 'Age', 'SibSp',\n",
      "       'Parch', 'Ticket', 'Fare', 'Cabin', 'Embarked'],\n",
      "      dtype='object')\n",
      "Index(['PassengerId', 'Pclass', 'Name', 'Sex', 'Age', 'SibSp', 'Parch',\n",
      "       'Ticket', 'Fare', 'Cabin', 'Embarked'],\n",
      "      dtype='object')\n"
     ]
    }
   ],
   "source": [
    "#print(traindf.rows)\n",
    "print(testdf.index)\n",
    "print(traindf.columns)\n",
    "print(testdf.columns)"
   ]
  },
  {
   "cell_type": "code",
   "execution_count": 7,
   "metadata": {},
   "outputs": [
    {
     "name": "stdout",
     "output_type": "stream",
     "text": [
      "PassengerId                                 11\n",
      "Survived                                     1\n",
      "Pclass                                       3\n",
      "Name           Sandstrom, Miss. Marguerite Rut\n",
      "Sex                                     female\n",
      "Age                                          4\n",
      "SibSp                                        1\n",
      "Parch                                        1\n",
      "Ticket                                 PP 9549\n",
      "Fare                                      16.7\n",
      "Cabin                                       G6\n",
      "Embarked                                     S\n",
      "Name: 10, dtype: object\n",
      "PassengerId                 902\n",
      "Pclass                        3\n",
      "Name           Ilieff, Mr. Ylio\n",
      "Sex                        male\n",
      "Age                         NaN\n",
      "SibSp                         0\n",
      "Parch                         0\n",
      "Ticket                   349220\n",
      "Fare                     7.8958\n",
      "Cabin                       NaN\n",
      "Embarked                      S\n",
      "Name: 10, dtype: object\n"
     ]
    }
   ],
   "source": [
    "#print(testdf.loc[345])\n",
    "#print(testdf.loc[0][8])\n",
    "print(traindf.loc[10])\n",
    "print(testdf.loc[10])"
   ]
  },
  {
   "cell_type": "code",
   "execution_count": 52,
   "metadata": {},
   "outputs": [],
   "source": [
    "#print(testdf)"
   ]
  },
  {
   "cell_type": "code",
   "execution_count": 8,
   "metadata": {},
   "outputs": [
    {
     "name": "stdout",
     "output_type": "stream",
     "text": [
      "152\n",
      "PassengerId                  1044\n",
      "Pclass                          3\n",
      "Name           Storey, Mr. Thomas\n",
      "Sex                          male\n",
      "Age                          60.5\n",
      "SibSp                           0\n",
      "Parch                           0\n",
      "Ticket                       3701\n",
      "Fare                          NaN\n",
      "Cabin                         NaN\n",
      "Embarked                        S\n",
      "Name: 152, dtype: object\n",
      "PassengerId                  1044\n",
      "Pclass                          3\n",
      "Name           Storey, Mr. Thomas\n",
      "Sex                          male\n",
      "Age                          60.5\n",
      "SibSp                           0\n",
      "Parch                           0\n",
      "Ticket                       3701\n",
      "Fare                            0\n",
      "Cabin                         NaN\n",
      "Embarked                        S\n",
      "Name: 152, dtype: object\n"
     ]
    }
   ],
   "source": [
    "# Plugging in code here to fix the NaN entry for Fare in test data set. See way down below for full story.\n",
    "#import math\n",
    "for index, row in testdf.iterrows():\n",
    "#    print(index)\n",
    "#    print(testdf.loc[index]['Fare'])\n",
    "    if(math.isnan(testdf.loc[index]['Fare'])):\n",
    "        print(index)\n",
    "        print(testdf.loc[index])\n",
    "        testdf.at[index, 'Fare'] = 0\n",
    "        print(testdf.loc[index])"
   ]
  },
  {
   "cell_type": "markdown",
   "metadata": {},
   "source": [
    "### Ok, time to create tabular data for training the model from the train dataframe."
   ]
  },
  {
   "cell_type": "markdown",
   "metadata": {},
   "source": [
    "Dependent variable: one that you want to predict. so in this case \"survived\".\n",
    "Categorical variables: ones that are discrete/fixed. eg name gender etc\n",
    "Continuous variables: ones that are continuous or have high cardinality (uncommon/unique) or are categorical but with too many options. eg age, salary\n",
    "Procedures: functions that fastai can perform on a tabular dataset to augment it. done only once at start; not on the fly like in case of transforms for vision datasets.\n",
    "\n",
    "So now, we need to decide which of these to set and how.\n",
    "\n",
    "Here's the v1 thinking:\n",
    "DV is simple and done.\n",
    "Categorical - Name, Sex, Ticket, Cabin and Embarked - these are obvious categorical variables\n",
    "Categorical - Pclass, SibSp, Parch - possibly also categorical? \n",
    "Continuous - PassengerID, Age, Fare - ID and age for sure, but fare also is most likely continuous\n",
    "\n",
    "Procedures: For now just use the ones that were used in lesson 3."
   ]
  },
  {
   "cell_type": "code",
   "execution_count": 9,
   "metadata": {},
   "outputs": [],
   "source": [
    "dep_var = 'Survived'\n",
    "cat_names = ['Name', 'Sex', 'Ticket', 'Cabin', 'Embarked', 'Pclass', 'SibSp', 'Parch']\n",
    "cont_names = ['PassengerId', 'Age', 'Fare']\n",
    "procs = [FillMissing, Categorify, Normalize]"
   ]
  },
  {
   "cell_type": "code",
   "execution_count": 10,
   "metadata": {},
   "outputs": [],
   "source": [
    "#create the test TabularList data\n",
    "test = TabularList.from_df(testdf.copy(), path=path, cat_names=cat_names, cont_names=cont_names)"
   ]
  },
  {
   "cell_type": "code",
   "execution_count": 11,
   "metadata": {},
   "outputs": [
    {
     "name": "stdout",
     "output_type": "stream",
     "text": [
      "418\n",
      "PassengerId                 902\n",
      "Pclass                        3\n",
      "Name           Ilieff, Mr. Ylio\n",
      "Sex                        male\n",
      "Age                         NaN\n",
      "SibSp                         0\n",
      "Parch                         0\n",
      "Ticket                   349220\n",
      "Fare                     7.8958\n",
      "Cabin                       NaN\n",
      "Embarked                      S\n",
      "Name: 10, dtype: object\n"
     ]
    }
   ],
   "source": [
    "print(len(test))\n",
    "print(test[10])"
   ]
  },
  {
   "cell_type": "markdown",
   "metadata": {},
   "source": [
    "Note on the test code below:\n",
    "\n",
    "In the first run I got an error when the preprocessor \"FillMissing\" was called on my test itemlist. Error was:\n",
    "\n",
    "```\n",
    "/opt/anaconda3/lib/python3.7/site-packages/fastai/tabular/transform.py in apply_test(self, df)\n",
    "     95             elif pd.isnull(df[name]).sum() != 0:\n",
    "     96                 raise Exception(f\"\"\"There are nan values in field {name} but there were none in the training set. \n",
    "---> 97                 Please fix those manually.\"\"\")\n",
    "     98 \n",
    "     99 class Normalize(TabularProc):\n",
    "\n",
    "Exception: There are nan values in field Fare but there were none in the training set. \n",
    "                Please fix those manually.\n",
    "```\n",
    "\n",
    "So I wrote code to figure out which entries in test set had fare value of not-a-number. Turns out only 1 (with passenger ID 1044). But I can't fix it in the item list for its a slice/copy of the test dataframe. So I guess I need to fix in the dataframe itself.\n",
    "\n",
    "Leaving this code in here for kicks."
   ]
  },
  {
   "cell_type": "code",
   "execution_count": 30,
   "metadata": {},
   "outputs": [
    {
     "name": "stdout",
     "output_type": "stream",
     "text": [
      "152\n",
      "PassengerId                  1044\n",
      "Pclass                          3\n",
      "Name           Storey, Mr. Thomas\n",
      "Sex                          male\n",
      "Age                          60.5\n",
      "SibSp                           0\n",
      "Parch                           0\n",
      "Ticket                       3701\n",
      "Fare                          NaN\n",
      "Cabin                         NaN\n",
      "Embarked                        S\n",
      "Name: 152, dtype: object\n"
     ]
    }
   ],
   "source": [
    "# TEST CODE - NO NEED TO RUN\n",
    "#import math\n",
    "#for r in range(len(test)):\n",
    "#    if(math.isnan(test[r]['Fare'])):\n",
    "#        print(r)\n",
    "#        print(test[r])"
   ]
  },
  {
   "cell_type": "markdown",
   "metadata": {},
   "source": [
    "### Testing Databunch API"
   ]
  },
  {
   "cell_type": "markdown",
   "metadata": {},
   "source": [
    "Creating databunch below is causing the data to get messed up in the test itemlist and the train itemlist. So I'm going to break up the steps and instead of using databunch api do one step at a time."
   ]
  },
  {
   "cell_type": "code",
   "execution_count": 12,
   "metadata": {},
   "outputs": [],
   "source": [
    "#the test itemlist is setup fine as above so going to create train item list now\n",
    "#create the train TabularList data\n",
    "#trainsrc = (TabularList.from_df(traindf, path=path, cat_names=cat_names, cont_names=cont_names)\n",
    "#            .split_by_idx(valid_idx=range(800,890)))"
   ]
  },
  {
   "cell_type": "code",
   "execution_count": 12,
   "metadata": {},
   "outputs": [],
   "source": [
    "#print(len(trainsrc))\n",
    "#print(trainsrc.train)"
   ]
  },
  {
   "cell_type": "code",
   "execution_count": 13,
   "metadata": {},
   "outputs": [],
   "source": [
    "#print(trainsrc[890])"
   ]
  },
  {
   "cell_type": "code",
   "execution_count": 12,
   "metadata": {},
   "outputs": [],
   "source": [
    "data = (TabularList.from_df(traindf, path=path, cat_names=cat_names, cont_names=cont_names, procs=procs)\n",
    "                           .split_by_idx(valid_idx=range(800,890))\n",
    "                           .label_from_df(cols=dep_var)\n",
    "                           .add_test(test)\n",
    "                           .databunch())"
   ]
  },
  {
   "cell_type": "code",
   "execution_count": 13,
   "metadata": {},
   "outputs": [
    {
     "data": {
      "text/plain": [
       "(TabularLine Name Sandstrom, Miss. Marguerite Rut; Sex female; Ticket PP 9549; Cabin G6; Embarked S; Pclass 3; SibSp 1; Parch 1; Age_na False; PassengerId -1.6845; Age -1.9625; Fare -0.3166; ,\n",
       " Category 1)"
      ]
     },
     "execution_count": 13,
     "metadata": {},
     "output_type": "execute_result"
    }
   ],
   "source": [
    "data.train_ds[10]"
   ]
  },
  {
   "cell_type": "code",
   "execution_count": 14,
   "metadata": {},
   "outputs": [
    {
     "data": {
      "text/plain": [
       "(TabularLine Name #na#; Sex male; Ticket #na#; Cabin #na#; Embarked S; Pclass 3; SibSp 0; Parch 0; Age_na True; PassengerId 2.1628; Age -0.1149; Fare -0.4876; ,\n",
       " EmptyLabel )"
      ]
     },
     "execution_count": 14,
     "metadata": {},
     "output_type": "execute_result"
    }
   ],
   "source": [
    "data.test_ds[10]"
   ]
  },
  {
   "cell_type": "markdown",
   "metadata": {},
   "source": [
    "Ok something went wrong here while creating databunch. Why is passenger ID and age negative!! Need to check this out."
   ]
  },
  {
   "cell_type": "code",
   "execution_count": 15,
   "metadata": {},
   "outputs": [
    {
     "data": {
      "text/html": [
       "<table>  <col width='10%'>  <col width='10%'>  <col width='10%'>  <col width='10%'>  <col width='10%'>  <col width='10%'>  <col width='10%'>  <col width='10%'>  <col width='10%'>  <col width='10%'>  <col width='10%'>  <col width='10%'>  <col width='10%'>  <tr>\n",
       "    <th>Name</th>\n",
       "    <th>Sex</th>\n",
       "    <th>Ticket</th>\n",
       "    <th>Cabin</th>\n",
       "    <th>Embarked</th>\n",
       "    <th>Pclass</th>\n",
       "    <th>SibSp</th>\n",
       "    <th>Parch</th>\n",
       "    <th>Age_na</th>\n",
       "    <th>PassengerId</th>\n",
       "    <th>Age</th>\n",
       "    <th>Fare</th>\n",
       "    <th>target</th>\n",
       "  </tr>\n",
       "  <tr>\n",
       "    <th>Sivic, Mr. Husein</th>\n",
       "    <th>male</th>\n",
       "    <th>349251</th>\n",
       "    <th>#na#</th>\n",
       "    <th>S</th>\n",
       "    <th>3</th>\n",
       "    <th>0</th>\n",
       "    <th>0</th>\n",
       "    <th>False</th>\n",
       "    <th>0.6947</th>\n",
       "    <th>0.8088</th>\n",
       "    <th>-0.4876</th>\n",
       "    <th>0</th>\n",
       "  </tr>\n",
       "  <tr>\n",
       "    <th>Paulner, Mr. Uscher</th>\n",
       "    <th>male</th>\n",
       "    <th>3411</th>\n",
       "    <th>#na#</th>\n",
       "    <th>C</th>\n",
       "    <th>3</th>\n",
       "    <th>0</th>\n",
       "    <th>0</th>\n",
       "    <th>True</th>\n",
       "    <th>0.7940</th>\n",
       "    <th>-0.1149</th>\n",
       "    <th>-0.4717</th>\n",
       "    <th>0</th>\n",
       "  </tr>\n",
       "  <tr>\n",
       "    <th>Campbell, Mr. William</th>\n",
       "    <th>male</th>\n",
       "    <th>239853</th>\n",
       "    <th>#na#</th>\n",
       "    <th>S</th>\n",
       "    <th>2</th>\n",
       "    <th>0</th>\n",
       "    <th>0</th>\n",
       "    <th>True</th>\n",
       "    <th>0.2845</th>\n",
       "    <th>-0.1149</th>\n",
       "    <th>-0.6409</th>\n",
       "    <th>0</th>\n",
       "  </tr>\n",
       "  <tr>\n",
       "    <th>Murdlin, Mr. Joseph</th>\n",
       "    <th>male</th>\n",
       "    <th>A./5. 3235</th>\n",
       "    <th>#na#</th>\n",
       "    <th>S</th>\n",
       "    <th>3</th>\n",
       "    <th>0</th>\n",
       "    <th>0</th>\n",
       "    <th>True</th>\n",
       "    <th>0.8156</th>\n",
       "    <th>-0.1149</th>\n",
       "    <th>-0.4846</th>\n",
       "    <th>0</th>\n",
       "  </tr>\n",
       "  <tr>\n",
       "    <th>Hawksford, Mr. Walter James</th>\n",
       "    <th>male</th>\n",
       "    <th>16988</th>\n",
       "    <th>D45</th>\n",
       "    <th>S</th>\n",
       "    <th>1</th>\n",
       "    <th>0</th>\n",
       "    <th>0</th>\n",
       "    <th>True</th>\n",
       "    <th>1.4676</th>\n",
       "    <th>-0.1149</th>\n",
       "    <th>-0.0584</th>\n",
       "    <th>1</th>\n",
       "  </tr>\n",
       "</table>\n"
      ],
      "text/plain": [
       "<IPython.core.display.HTML object>"
      ]
     },
     "metadata": {},
     "output_type": "display_data"
    }
   ],
   "source": [
    "data.show_batch(5)"
   ]
  },
  {
   "cell_type": "markdown",
   "metadata": {},
   "source": [
    "## Creating the tabular learner to then train the model."
   ]
  },
  {
   "cell_type": "code",
   "execution_count": 33,
   "metadata": {},
   "outputs": [],
   "source": [
    "learn = tabular_learner(data, layers=[200,100], metrics=accuracy)"
   ]
  },
  {
   "cell_type": "code",
   "execution_count": 34,
   "metadata": {},
   "outputs": [
    {
     "data": {
      "text/plain": [
       "Learner(data=TabularDataBunch;\n",
       "\n",
       "Train: LabelList\n",
       "y: CategoryList (801 items)\n",
       "[Category 0, Category 1, Category 1, Category 1, Category 0]...\n",
       "Path: /home/jupyter/.fastai/data/titanic\n",
       "x: TabularList (801 items)\n",
       "[TabularLine Name Braund, Mr. Owen Harris; Sex male; Ticket A/5 21171; Cabin #na#; Embarked S; Pclass 3; SibSp 1; Parch 0; Age_na False; PassengerId -1.7277; Age -0.5768; Fare -0.5001; , TabularLine Name Cumings, Mrs. John Bradley (Florence Briggs Thayer); Sex female; Ticket PC 17599; Cabin C85; Embarked C; Pclass 1; SibSp 1; Parch 0; Age_na False; PassengerId -1.7234; Age 0.6549; Fare 0.7432; , TabularLine Name Heikkinen, Miss. Laina; Sex female; Ticket STON/O2. 3101282; Cabin #na#; Embarked S; Pclass 3; SibSp 0; Parch 0; Age_na False; PassengerId -1.7190; Age -0.2689; Fare -0.4870; , TabularLine Name Futrelle, Mrs. Jacques Heath (Lily May Peel); Sex female; Ticket 113803; Cabin C123; Embarked S; Pclass 1; SibSp 1; Parch 0; Age_na False; PassengerId -1.7147; Age 0.4239; Fare 0.3902; , TabularLine Name Allen, Mr. William Henry; Sex male; Ticket 373450; Cabin #na#; Embarked S; Pclass 3; SibSp 0; Parch 0; Age_na False; PassengerId -1.7104; Age 0.4239; Fare -0.4846; ]...\n",
       "Path: /home/jupyter/.fastai/data/titanic;\n",
       "\n",
       "Valid: LabelList\n",
       "y: CategoryList (90 items)\n",
       "[Category 0, Category 1, Category 1, Category 1, Category 1]...\n",
       "Path: /home/jupyter/.fastai/data/titanic\n",
       "x: TabularList (90 items)\n",
       "[TabularLine Name #na#; Sex male; Ticket 250647; Cabin #na#; Embarked S; Pclass 2; SibSp 0; Parch 0; Age_na False; PassengerId 1.7267; Age 0.3469; Fare -0.3885; , TabularLine Name #na#; Sex female; Ticket C.A. 31921; Cabin #na#; Embarked S; Pclass 2; SibSp 1; Parch 1; Age_na False; PassengerId 1.7310; Age 0.1160; Fare -0.1312; , TabularLine Name #na#; Sex male; Ticket 113760; Cabin B96 B98; Embarked S; Pclass 1; SibSp 1; Parch 2; Age_na False; PassengerId 1.7353; Age -1.4236; Fare 1.6892; , TabularLine Name #na#; Sex male; Ticket #na#; Cabin #na#; Embarked C; Pclass 3; SibSp 0; Parch 1; Age_na False; PassengerId 1.7397; Age -2.2381; Fare -0.4755; , TabularLine Name #na#; Sex male; Ticket #na#; Cabin #na#; Embarked S; Pclass 3; SibSp 0; Parch 0; Age_na False; PassengerId 1.7440; Age -0.1919; Fare -0.5055; ]...\n",
       "Path: /home/jupyter/.fastai/data/titanic;\n",
       "\n",
       "Test: LabelList\n",
       "y: EmptyLabelList (418 items)\n",
       "[EmptyLabel , EmptyLabel , EmptyLabel , EmptyLabel , EmptyLabel ]...\n",
       "Path: .\n",
       "x: TabularList (418 items)\n",
       "[TabularLine Name Kelly, Mr. James; Sex male; Ticket #na#; Cabin #na#; Embarked Q; Pclass 3; SibSp 0; Parch 0; Age_na False; PassengerId 2.1196; Age 0.3854; Fare -0.4889; , TabularLine Name #na#; Sex female; Ticket #na#; Cabin #na#; Embarked S; Pclass 3; SibSp 1; Parch 0; Age_na False; PassengerId 2.1240; Age 1.3477; Fare -0.5050; , TabularLine Name #na#; Sex male; Ticket #na#; Cabin #na#; Embarked Q; Pclass 2; SibSp 0; Parch 0; Age_na False; PassengerId 2.1283; Age 2.5024; Fare -0.4528; , TabularLine Name #na#; Sex male; Ticket #na#; Cabin #na#; Embarked S; Pclass 3; SibSp 0; Parch 0; Age_na False; PassengerId 2.1326; Age -0.1919; Fare -0.4727; , TabularLine Name #na#; Sex female; Ticket 3101298; Cabin #na#; Embarked S; Pclass 3; SibSp 1; Parch 1; Age_na False; PassengerId 2.1369; Age -0.5768; Fare -0.4023; ]...\n",
       "Path: /home/jupyter/.fastai/data/titanic, model=TabularModel(\n",
       "  (embeds): ModuleList(\n",
       "    (0): Embedding(802, 68)\n",
       "    (1): Embedding(3, 3)\n",
       "    (2): Embedding(627, 59)\n",
       "    (3): Embedding(137, 25)\n",
       "    (4): Embedding(4, 3)\n",
       "    (5): Embedding(4, 3)\n",
       "    (6): Embedding(8, 5)\n",
       "    (7): Embedding(8, 5)\n",
       "    (8): Embedding(3, 3)\n",
       "  )\n",
       "  (emb_drop): Dropout(p=0.0)\n",
       "  (bn_cont): BatchNorm1d(3, eps=1e-05, momentum=0.1, affine=True, track_running_stats=True)\n",
       "  (layers): Sequential(\n",
       "    (0): Linear(in_features=177, out_features=200, bias=True)\n",
       "    (1): ReLU(inplace)\n",
       "    (2): BatchNorm1d(200, eps=1e-05, momentum=0.1, affine=True, track_running_stats=True)\n",
       "    (3): Linear(in_features=200, out_features=100, bias=True)\n",
       "    (4): ReLU(inplace)\n",
       "    (5): BatchNorm1d(100, eps=1e-05, momentum=0.1, affine=True, track_running_stats=True)\n",
       "    (6): Linear(in_features=100, out_features=2, bias=True)\n",
       "  )\n",
       "), opt_func=functools.partial(<class 'torch.optim.adam.Adam'>, betas=(0.9, 0.99)), loss_func=FlattenedLoss of CrossEntropyLoss(), metrics=[<function accuracy at 0x7f4d0850b8c8>], true_wd=True, bn_wd=True, wd=0.01, train_bn=True, path=PosixPath('/home/jupyter/.fastai/data/titanic'), model_dir='models', callback_fns=[<class 'fastai.basic_train.Recorder'>], callbacks=[], layer_groups=[Sequential(\n",
       "  (0): Embedding(802, 68)\n",
       "  (1): Embedding(3, 3)\n",
       "  (2): Embedding(627, 59)\n",
       "  (3): Embedding(137, 25)\n",
       "  (4): Embedding(4, 3)\n",
       "  (5): Embedding(4, 3)\n",
       "  (6): Embedding(8, 5)\n",
       "  (7): Embedding(8, 5)\n",
       "  (8): Embedding(3, 3)\n",
       "  (9): Dropout(p=0.0)\n",
       "  (10): BatchNorm1d(3, eps=1e-05, momentum=0.1, affine=True, track_running_stats=True)\n",
       "  (11): Linear(in_features=177, out_features=200, bias=True)\n",
       "  (12): ReLU(inplace)\n",
       "  (13): BatchNorm1d(200, eps=1e-05, momentum=0.1, affine=True, track_running_stats=True)\n",
       "  (14): Linear(in_features=200, out_features=100, bias=True)\n",
       "  (15): BatchNorm1d(100, eps=1e-05, momentum=0.1, affine=True, track_running_stats=True)\n",
       "  (16): Linear(in_features=100, out_features=2, bias=True)\n",
       ")])"
      ]
     },
     "execution_count": 34,
     "metadata": {},
     "output_type": "execute_result"
    }
   ],
   "source": [
    "learn"
   ]
  },
  {
   "cell_type": "code",
   "execution_count": 35,
   "metadata": {},
   "outputs": [
    {
     "data": {
      "text/html": [
       "Total time: 00:10 <p><table style='width:300px; margin-bottom:10px'>\n",
       "  <tr>\n",
       "    <th>epoch</th>\n",
       "    <th>train_loss</th>\n",
       "    <th>valid_loss</th>\n",
       "    <th>accuracy</th>\n",
       "  </tr>\n",
       "  <tr>\n",
       "    <th>1</th>\n",
       "    <th>0.613159</th>\n",
       "    <th>0.599883</th>\n",
       "    <th>0.677778</th>\n",
       "  </tr>\n",
       "  <tr>\n",
       "    <th>2</th>\n",
       "    <th>0.345537</th>\n",
       "    <th>0.426237</th>\n",
       "    <th>0.822222</th>\n",
       "  </tr>\n",
       "  <tr>\n",
       "    <th>3</th>\n",
       "    <th>0.207200</th>\n",
       "    <th>0.448622</th>\n",
       "    <th>0.844444</th>\n",
       "  </tr>\n",
       "  <tr>\n",
       "    <th>4</th>\n",
       "    <th>0.135949</th>\n",
       "    <th>0.620482</th>\n",
       "    <th>0.844444</th>\n",
       "  </tr>\n",
       "  <tr>\n",
       "    <th>5</th>\n",
       "    <th>0.094525</th>\n",
       "    <th>0.711356</th>\n",
       "    <th>0.844444</th>\n",
       "  </tr>\n",
       "  <tr>\n",
       "    <th>6</th>\n",
       "    <th>0.068046</th>\n",
       "    <th>0.785239</th>\n",
       "    <th>0.811111</th>\n",
       "  </tr>\n",
       "  <tr>\n",
       "    <th>7</th>\n",
       "    <th>0.050196</th>\n",
       "    <th>0.789221</th>\n",
       "    <th>0.800000</th>\n",
       "  </tr>\n",
       "  <tr>\n",
       "    <th>8</th>\n",
       "    <th>0.037638</th>\n",
       "    <th>0.780690</th>\n",
       "    <th>0.800000</th>\n",
       "  </tr>\n",
       "  <tr>\n",
       "    <th>9</th>\n",
       "    <th>0.028529</th>\n",
       "    <th>0.756405</th>\n",
       "    <th>0.811111</th>\n",
       "  </tr>\n",
       "  <tr>\n",
       "    <th>10</th>\n",
       "    <th>0.021816</th>\n",
       "    <th>0.762965</th>\n",
       "    <th>0.811111</th>\n",
       "  </tr>\n",
       "  <tr>\n",
       "    <th>11</th>\n",
       "    <th>0.016811</th>\n",
       "    <th>0.749221</th>\n",
       "    <th>0.811111</th>\n",
       "  </tr>\n",
       "  <tr>\n",
       "    <th>12</th>\n",
       "    <th>0.013008</th>\n",
       "    <th>0.764471</th>\n",
       "    <th>0.811111</th>\n",
       "  </tr>\n",
       "  <tr>\n",
       "    <th>13</th>\n",
       "    <th>0.010099</th>\n",
       "    <th>0.769255</th>\n",
       "    <th>0.811111</th>\n",
       "  </tr>\n",
       "  <tr>\n",
       "    <th>14</th>\n",
       "    <th>0.007868</th>\n",
       "    <th>0.771086</th>\n",
       "    <th>0.811111</th>\n",
       "  </tr>\n",
       "  <tr>\n",
       "    <th>15</th>\n",
       "    <th>0.006149</th>\n",
       "    <th>0.745147</th>\n",
       "    <th>0.833333</th>\n",
       "  </tr>\n",
       "  <tr>\n",
       "    <th>16</th>\n",
       "    <th>0.004822</th>\n",
       "    <th>0.778520</th>\n",
       "    <th>0.811111</th>\n",
       "  </tr>\n",
       "  <tr>\n",
       "    <th>17</th>\n",
       "    <th>0.003782</th>\n",
       "    <th>0.801585</th>\n",
       "    <th>0.811111</th>\n",
       "  </tr>\n",
       "  <tr>\n",
       "    <th>18</th>\n",
       "    <th>0.002973</th>\n",
       "    <th>0.797368</th>\n",
       "    <th>0.811111</th>\n",
       "  </tr>\n",
       "  <tr>\n",
       "    <th>19</th>\n",
       "    <th>0.002339</th>\n",
       "    <th>0.791555</th>\n",
       "    <th>0.811111</th>\n",
       "  </tr>\n",
       "  <tr>\n",
       "    <th>20</th>\n",
       "    <th>0.001846</th>\n",
       "    <th>0.809473</th>\n",
       "    <th>0.811111</th>\n",
       "  </tr>\n",
       "</table>\n"
      ],
      "text/plain": [
       "<IPython.core.display.HTML object>"
      ]
     },
     "metadata": {},
     "output_type": "display_data"
    }
   ],
   "source": [
    "learn.fit(20, 1e-2)"
   ]
  },
  {
   "cell_type": "code",
   "execution_count": 36,
   "metadata": {},
   "outputs": [
    {
     "name": "stdout",
     "output_type": "stream",
     "text": [
      "LR Finder is complete, type {learner_name}.recorder.plot() to see the graph.\n"
     ]
    },
    {
     "data": {
      "image/png": "[encoded data removed]",
      "text/plain": [
       "<Figure size 432x288 with 1 Axes>"
      ]
     },
     "metadata": {
      "needs_background": "light"
     },
     "output_type": "display_data"
    }
   ],
   "source": [
    "learn.lr_find()\n",
    "learn.recorder.plot()"
   ]
  },
  {
   "cell_type": "code",
   "execution_count": 37,
   "metadata": {},
   "outputs": [
    {
     "data": {
      "text/html": [
       "Total time: 00:10 <p><table style='width:300px; margin-bottom:10px'>\n",
       "  <tr>\n",
       "    <th>epoch</th>\n",
       "    <th>train_loss</th>\n",
       "    <th>valid_loss</th>\n",
       "    <th>accuracy</th>\n",
       "  </tr>\n",
       "  <tr>\n",
       "    <th>1</th>\n",
       "    <th>0.054859</th>\n",
       "    <th>2.909407</th>\n",
       "    <th>0.755556</th>\n",
       "  </tr>\n",
       "  <tr>\n",
       "    <th>2</th>\n",
       "    <th>0.599684</th>\n",
       "    <th>0.749195</th>\n",
       "    <th>0.800000</th>\n",
       "  </tr>\n",
       "  <tr>\n",
       "    <th>3</th>\n",
       "    <th>0.485574</th>\n",
       "    <th>0.536086</th>\n",
       "    <th>0.788889</th>\n",
       "  </tr>\n",
       "  <tr>\n",
       "    <th>4</th>\n",
       "    <th>0.370496</th>\n",
       "    <th>0.629404</th>\n",
       "    <th>0.788889</th>\n",
       "  </tr>\n",
       "  <tr>\n",
       "    <th>5</th>\n",
       "    <th>0.271454</th>\n",
       "    <th>0.724041</th>\n",
       "    <th>0.800000</th>\n",
       "  </tr>\n",
       "  <tr>\n",
       "    <th>6</th>\n",
       "    <th>0.196478</th>\n",
       "    <th>0.708017</th>\n",
       "    <th>0.788889</th>\n",
       "  </tr>\n",
       "  <tr>\n",
       "    <th>7</th>\n",
       "    <th>0.145375</th>\n",
       "    <th>0.755915</th>\n",
       "    <th>0.800000</th>\n",
       "  </tr>\n",
       "  <tr>\n",
       "    <th>8</th>\n",
       "    <th>0.109064</th>\n",
       "    <th>0.780443</th>\n",
       "    <th>0.788889</th>\n",
       "  </tr>\n",
       "  <tr>\n",
       "    <th>9</th>\n",
       "    <th>0.082642</th>\n",
       "    <th>0.802250</th>\n",
       "    <th>0.777778</th>\n",
       "  </tr>\n",
       "  <tr>\n",
       "    <th>10</th>\n",
       "    <th>0.063151</th>\n",
       "    <th>0.820663</th>\n",
       "    <th>0.788889</th>\n",
       "  </tr>\n",
       "  <tr>\n",
       "    <th>11</th>\n",
       "    <th>0.048568</th>\n",
       "    <th>0.810498</th>\n",
       "    <th>0.788889</th>\n",
       "  </tr>\n",
       "  <tr>\n",
       "    <th>12</th>\n",
       "    <th>0.037561</th>\n",
       "    <th>0.826034</th>\n",
       "    <th>0.788889</th>\n",
       "  </tr>\n",
       "  <tr>\n",
       "    <th>13</th>\n",
       "    <th>0.029132</th>\n",
       "    <th>0.829385</th>\n",
       "    <th>0.788889</th>\n",
       "  </tr>\n",
       "  <tr>\n",
       "    <th>14</th>\n",
       "    <th>0.022665</th>\n",
       "    <th>0.833783</th>\n",
       "    <th>0.788889</th>\n",
       "  </tr>\n",
       "  <tr>\n",
       "    <th>15</th>\n",
       "    <th>0.017752</th>\n",
       "    <th>0.796537</th>\n",
       "    <th>0.800000</th>\n",
       "  </tr>\n",
       "  <tr>\n",
       "    <th>16</th>\n",
       "    <th>0.013868</th>\n",
       "    <th>0.791414</th>\n",
       "    <th>0.800000</th>\n",
       "  </tr>\n",
       "  <tr>\n",
       "    <th>17</th>\n",
       "    <th>0.010851</th>\n",
       "    <th>0.782617</th>\n",
       "    <th>0.800000</th>\n",
       "  </tr>\n",
       "  <tr>\n",
       "    <th>18</th>\n",
       "    <th>0.008510</th>\n",
       "    <th>0.769513</th>\n",
       "    <th>0.811111</th>\n",
       "  </tr>\n",
       "  <tr>\n",
       "    <th>19</th>\n",
       "    <th>0.006676</th>\n",
       "    <th>0.788131</th>\n",
       "    <th>0.800000</th>\n",
       "  </tr>\n",
       "  <tr>\n",
       "    <th>20</th>\n",
       "    <th>0.005250</th>\n",
       "    <th>0.805575</th>\n",
       "    <th>0.800000</th>\n",
       "  </tr>\n",
       "</table>\n"
      ],
      "text/plain": [
       "<IPython.core.display.HTML object>"
      ]
     },
     "metadata": {},
     "output_type": "display_data"
    }
   ],
   "source": [
    "learn.unfreeze()\n",
    "learn.fit(20, 5e-2)"
   ]
  },
  {
   "cell_type": "code",
   "execution_count": 38,
   "metadata": {},
   "outputs": [
    {
     "name": "stdout",
     "output_type": "stream",
     "text": [
      "LR Finder is complete, type {learner_name}.recorder.plot() to see the graph.\n"
     ]
    },
    {
     "data": {
      "image/png": "[encoded data removed]",
      "text/plain": [
       "<Figure size 432x288 with 1 Axes>"
      ]
     },
     "metadata": {
      "needs_background": "light"
     },
     "output_type": "display_data"
    }
   ],
   "source": [
    "learn.lr_find()\n",
    "learn.recorder.plot()"
   ]
  },
  {
   "cell_type": "code",
   "execution_count": 39,
   "metadata": {
    "scrolled": false
   },
   "outputs": [],
   "source": [
    "#from IPython.core.debugger import set_trace\n",
    "#set_trace()\n",
    "#learn.fit_one_cycle(20, max_lr=slice(1e-4, 1e-1))"
   ]
  },
  {
   "cell_type": "code",
   "execution_count": 40,
   "metadata": {
    "scrolled": false
   },
   "outputs": [],
   "source": [
    "#%debug"
   ]
  },
  {
   "cell_type": "code",
   "execution_count": 41,
   "metadata": {},
   "outputs": [
    {
     "data": {
      "text/html": [
       "Total time: 00:10 <p><table style='width:300px; margin-bottom:10px'>\n",
       "  <tr>\n",
       "    <th>epoch</th>\n",
       "    <th>train_loss</th>\n",
       "    <th>valid_loss</th>\n",
       "    <th>accuracy</th>\n",
       "  </tr>\n",
       "  <tr>\n",
       "    <th>1</th>\n",
       "    <th>0.165378</th>\n",
       "    <th>3.839339</th>\n",
       "    <th>0.766667</th>\n",
       "  </tr>\n",
       "  <tr>\n",
       "    <th>2</th>\n",
       "    <th>0.462365</th>\n",
       "    <th>0.644368</th>\n",
       "    <th>0.800000</th>\n",
       "  </tr>\n",
       "  <tr>\n",
       "    <th>3</th>\n",
       "    <th>0.296834</th>\n",
       "    <th>0.596629</th>\n",
       "    <th>0.811111</th>\n",
       "  </tr>\n",
       "  <tr>\n",
       "    <th>4</th>\n",
       "    <th>0.213407</th>\n",
       "    <th>0.682681</th>\n",
       "    <th>0.855556</th>\n",
       "  </tr>\n",
       "  <tr>\n",
       "    <th>5</th>\n",
       "    <th>0.153589</th>\n",
       "    <th>0.671111</th>\n",
       "    <th>0.811111</th>\n",
       "  </tr>\n",
       "  <tr>\n",
       "    <th>6</th>\n",
       "    <th>0.110922</th>\n",
       "    <th>0.676950</th>\n",
       "    <th>0.811111</th>\n",
       "  </tr>\n",
       "  <tr>\n",
       "    <th>7</th>\n",
       "    <th>0.081911</th>\n",
       "    <th>0.751844</th>\n",
       "    <th>0.822222</th>\n",
       "  </tr>\n",
       "  <tr>\n",
       "    <th>8</th>\n",
       "    <th>0.061376</th>\n",
       "    <th>0.816528</th>\n",
       "    <th>0.855556</th>\n",
       "  </tr>\n",
       "  <tr>\n",
       "    <th>9</th>\n",
       "    <th>0.046644</th>\n",
       "    <th>0.824634</th>\n",
       "    <th>0.855556</th>\n",
       "  </tr>\n",
       "  <tr>\n",
       "    <th>10</th>\n",
       "    <th>0.035676</th>\n",
       "    <th>0.801368</th>\n",
       "    <th>0.811111</th>\n",
       "  </tr>\n",
       "  <tr>\n",
       "    <th>11</th>\n",
       "    <th>0.027451</th>\n",
       "    <th>0.796267</th>\n",
       "    <th>0.811111</th>\n",
       "  </tr>\n",
       "  <tr>\n",
       "    <th>12</th>\n",
       "    <th>0.021227</th>\n",
       "    <th>0.809824</th>\n",
       "    <th>0.800000</th>\n",
       "  </tr>\n",
       "  <tr>\n",
       "    <th>13</th>\n",
       "    <th>0.016478</th>\n",
       "    <th>0.823137</th>\n",
       "    <th>0.811111</th>\n",
       "  </tr>\n",
       "  <tr>\n",
       "    <th>14</th>\n",
       "    <th>0.012821</th>\n",
       "    <th>0.831513</th>\n",
       "    <th>0.811111</th>\n",
       "  </tr>\n",
       "  <tr>\n",
       "    <th>15</th>\n",
       "    <th>0.010015</th>\n",
       "    <th>0.832500</th>\n",
       "    <th>0.811111</th>\n",
       "  </tr>\n",
       "  <tr>\n",
       "    <th>16</th>\n",
       "    <th>0.007829</th>\n",
       "    <th>0.839690</th>\n",
       "    <th>0.811111</th>\n",
       "  </tr>\n",
       "  <tr>\n",
       "    <th>17</th>\n",
       "    <th>0.006125</th>\n",
       "    <th>0.848576</th>\n",
       "    <th>0.811111</th>\n",
       "  </tr>\n",
       "  <tr>\n",
       "    <th>18</th>\n",
       "    <th>0.004797</th>\n",
       "    <th>0.834472</th>\n",
       "    <th>0.811111</th>\n",
       "  </tr>\n",
       "  <tr>\n",
       "    <th>19</th>\n",
       "    <th>0.003786</th>\n",
       "    <th>0.828187</th>\n",
       "    <th>0.800000</th>\n",
       "  </tr>\n",
       "  <tr>\n",
       "    <th>20</th>\n",
       "    <th>0.002968</th>\n",
       "    <th>0.834191</th>\n",
       "    <th>0.811111</th>\n",
       "  </tr>\n",
       "</table>\n"
      ],
      "text/plain": [
       "<IPython.core.display.HTML object>"
      ]
     },
     "metadata": {},
     "output_type": "display_data"
    }
   ],
   "source": [
    "learn.unfreeze()\n",
    "learn.fit(20, 1e-1)"
   ]
  },
  {
   "cell_type": "code",
   "execution_count": 42,
   "metadata": {},
   "outputs": [
    {
     "name": "stdout",
     "output_type": "stream",
     "text": [
      "LR Finder is complete, type {learner_name}.recorder.plot() to see the graph.\n"
     ]
    },
    {
     "data": {
      "image/png": "[encoded data removed]",
      "text/plain": [
       "<Figure size 432x288 with 1 Axes>"
      ]
     },
     "metadata": {
      "needs_background": "light"
     },
     "output_type": "display_data"
    }
   ],
   "source": [
    "learn.lr_find()\n",
    "learn.recorder.plot()"
   ]
  },
  {
   "cell_type": "code",
   "execution_count": 43,
   "metadata": {},
   "outputs": [],
   "source": [
    "learn.save('stage-1-lowtlhighvlacc81')"
   ]
  },
  {
   "cell_type": "markdown",
   "metadata": {},
   "source": [
    "## Inference"
   ]
  },
  {
   "cell_type": "code",
   "execution_count": 87,
   "metadata": {},
   "outputs": [
    {
     "name": "stdout",
     "output_type": "stream",
     "text": [
      "PassengerId                             922\n",
      "Pclass                                    2\n",
      "Name           Louch, Mr. Charles Alexander\n",
      "Sex                                    male\n",
      "Age                                      50\n",
      "SibSp                                     1\n",
      "Parch                                     0\n",
      "Ticket                           SC/AH 3085\n",
      "Fare                                     26\n",
      "Cabin                                   NaN\n",
      "Embarked                                  S\n",
      "Name: 30, dtype: object\n",
      "(Category 0, tensor(0), tensor([0.5970, 0.4030]))\n"
     ]
    }
   ],
   "source": [
    "row = testdf.iloc[30]\n",
    "print(row)\n",
    "p = learn.predict(row)\n",
    "print(p)"
   ]
  },
  {
   "cell_type": "code",
   "execution_count": 88,
   "metadata": {},
   "outputs": [
    {
     "name": "stdout",
     "output_type": "stream",
     "text": [
      "0\n"
     ]
    }
   ],
   "source": [
    "pn = p[1].numpy()\n",
    "print(pn)"
   ]
  },
  {
   "cell_type": "code",
   "execution_count": 68,
   "metadata": {},
   "outputs": [],
   "source": [
    "#learn.get_preds()"
   ]
  },
  {
   "cell_type": "code",
   "execution_count": 94,
   "metadata": {},
   "outputs": [
    {
     "name": "stdout",
     "output_type": "stream",
     "text": [
      "Empty DataFrame\n",
      "Columns: [PassengerId, Survived]\n",
      "Index: []\n"
     ]
    }
   ],
   "source": [
    "# Create results dataframe\n",
    "rescolnames = ['PassengerId', 'Survived']\n",
    "results = pd.DataFrame(columns=rescolnames)\n",
    "print(results)"
   ]
  },
  {
   "cell_type": "code",
   "execution_count": 95,
   "metadata": {},
   "outputs": [],
   "source": [
    "# Predict and populate results df\n",
    "for index, row in testdf.iterrows():\n",
    "    prediction = learn.predict(row)\n",
    "    predval = prediction[1].numpy()\n",
    "    passid = testdf.loc[index]['PassengerId']\n",
    "    results = results.append({'PassengerId':passid, 'Survived':predval}, ignore_index=True)\n",
    "#    if(index==1):\n",
    "#        print(prediction, predval, passid)\n",
    "#        print(row)"
   ]
  },
  {
   "cell_type": "code",
   "execution_count": 96,
   "metadata": {},
   "outputs": [
    {
     "name": "stdout",
     "output_type": "stream",
     "text": [
      "    PassengerId Survived\n",
      "0           892        0\n",
      "1           893        1\n",
      "2           894        0\n",
      "3           895        0\n",
      "4           896        1\n",
      "5           897        0\n",
      "6           898        1\n",
      "7           899        1\n",
      "8           900        1\n",
      "9           901        0\n",
      "10          902        0\n",
      "11          903        0\n",
      "12          904        1\n",
      "13          905        0\n",
      "14          906        1\n",
      "15          907        1\n",
      "16          908        0\n",
      "17          909        0\n",
      "18          910        1\n",
      "19          911        1\n",
      "20          912        1\n",
      "21          913        0\n",
      "22          914        1\n",
      "23          915        0\n",
      "24          916        1\n",
      "25          917        0\n",
      "26          918        1\n",
      "27          919        0\n",
      "28          920        0\n",
      "29          921        0\n",
      "..          ...      ...\n",
      "388        1280        0\n",
      "389        1281        0\n",
      "390        1282        0\n",
      "391        1283        1\n",
      "392        1284        0\n",
      "393        1285        0\n",
      "394        1286        0\n",
      "395        1287        1\n",
      "396        1288        0\n",
      "397        1289        1\n",
      "398        1290        0\n",
      "399        1291        0\n",
      "400        1292        1\n",
      "401        1293        0\n",
      "402        1294        1\n",
      "403        1295        0\n",
      "404        1296        0\n",
      "405        1297        0\n",
      "406        1298        0\n",
      "407        1299        0\n",
      "408        1300        1\n",
      "409        1301        1\n",
      "410        1302        1\n",
      "411        1303        1\n",
      "412        1304        1\n",
      "413        1305        0\n",
      "414        1306        1\n",
      "415        1307        0\n",
      "416        1308        0\n",
      "417        1309        0\n",
      "\n",
      "[418 rows x 2 columns]\n"
     ]
    }
   ],
   "source": [
    "print(results)"
   ]
  },
  {
   "cell_type": "code",
   "execution_count": 98,
   "metadata": {},
   "outputs": [],
   "source": [
    "# move results to csv file to submit on Kaggle\n",
    "resultsfile = results.to_csv(path/'titanicresultsv1.csv', index=False)"
   ]
  },
  {
   "cell_type": "code",
   "execution_count": null,
   "metadata": {},
   "outputs": [],
   "source": [
    "# This is it. First iteration done!"
   ]
  }
 ],
 "metadata": {
  "kernelspec": {
   "display_name": "Python 3",
   "language": "python",
   "name": "python3"
  },
  "language_info": {
   "codemirror_mode": {
    "name": "ipython",
    "version": 3
   },
   "file_extension": ".py",
   "mimetype": "text/x-python",
   "name": "python",
   "nbconvert_exporter": "python",
   "pygments_lexer": "ipython3",
   "version": "3.7.2"
  }
 },
 "nbformat": 4,
 "nbformat_minor": 2
}
