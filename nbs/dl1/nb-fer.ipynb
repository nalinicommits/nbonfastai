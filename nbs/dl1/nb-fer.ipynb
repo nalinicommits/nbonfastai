{
 "cells": [
  {
   "cell_type": "markdown",
   "metadata": {},
   "source": [
    "# Facial Emotion Recognition Project"
   ]
  },
  {
   "cell_type": "markdown",
   "metadata": {},
   "source": [
    "## Goal: Build a CNN to classify emotions on the basis of facial images\n",
    "\n",
    "\n",
    "### Steps:\n",
    "1. Build CNN based on resnet34, pretrained on imagenet\n",
    "2. Train on 7 emotions from KDEF dataset\n",
    "3. Test on test images\n",
    "4. Train on Kaggle FER dataset\n",
    "5. Repeat test on test images\n",
    "6. Train on Google images dataset\n",
    "7. Repeat test on test images"
   ]
  },
  {
   "cell_type": "markdown",
   "metadata": {},
   "source": [
    "### Code: Initial Setup"
   ]
  },
  {
   "cell_type": "markdown",
   "metadata": {},
   "source": [
    "Special directives to jupyter for reloading code and plotting graphs."
   ]
  },
  {
   "cell_type": "code",
   "execution_count": 1,
   "metadata": {},
   "outputs": [],
   "source": [
    "%reload_ext autoreload\n",
    "%autoreload 2\n",
    "%matplotlib inline"
   ]
  },
  {
   "cell_type": "markdown",
   "metadata": {},
   "source": [
    "Include required fastai libraries"
   ]
  },
  {
   "cell_type": "code",
   "execution_count": null,
   "metadata": {},
   "outputs": [],
   "source": [
    "from fastai.vision import *\n",
    "from fastai.metrics import accuracy, error_rate"
   ]
  },
  {
   "cell_type": "markdown",
   "metadata": {},
   "source": [
    "We need to specify a batch_size for the GPU. Typically batch size of 64 works, but for resource constrained, smaller GPUs, reset bs to 16 if you run out of memory. If GPU runs out of memory, try again after restarting kernel."
   ]
  },
  {
   "cell_type": "code",
   "execution_count": null,
   "metadata": {},
   "outputs": [],
   "source": [
    "bs = 64"
   ]
  },
  {
   "cell_type": "markdown",
   "metadata": {},
   "source": [
    "### Code: KDEF Dataset"
   ]
  },
  {
   "cell_type": "markdown",
   "metadata": {},
   "source": [
    "In the study of emotion recognition using facial images, a highly cited dataset is the [KDEF dataset](http://kdef.se/home/aboutKDEF.html) that contains images classified under 7 different emotions. KDEF has 4900 pictures of human facial expressions: 70 individuals displaying 7 different emotional expressions. Each expression viewed from 5 different angles.\n",
    "\n",
    "Note about dataset demographic: 70 amateur actors, 35 females and 35 males. Age between 20 and 30 years of age. No beards, mustaches, earrings or eyeglasses, and preferably no visible make-up during photo-session.\n",
    "\n",
    "Usage in ML: "
   ]
  },
  {
   "cell_type": "code",
   "execution_count": null,
   "metadata": {},
   "outputs": [],
   "source": []
  }
 ],
 "metadata": {
  "kernelspec": {
   "display_name": "Python 3",
   "language": "python",
   "name": "python3"
  },
  "language_info": {
   "codemirror_mode": {
    "name": "ipython",
    "version": 3
   },
   "file_extension": ".py",
   "mimetype": "text/x-python",
   "name": "python",
   "nbconvert_exporter": "python",
   "pygments_lexer": "ipython3",
   "version": "3.7.3"
  }
 },
 "nbformat": 4,
 "nbformat_minor": 2
}
