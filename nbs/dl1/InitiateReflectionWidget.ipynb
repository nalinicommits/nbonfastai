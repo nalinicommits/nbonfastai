{
 "cells": [
  {
   "cell_type": "markdown",
   "metadata": {},
   "source": [
    "## The InitiateReflection Widget"
   ]
  },
  {
   "cell_type": "markdown",
   "metadata": {},
   "source": [
    "This widget helps data scientists and AI/ML/DL wizards to pause and reflect on their work. This can be used at the start of a project (ideally), or at the end (also useful) but should definitely be used before publishing the work on Fast.ai forums."
   ]
  },
  {
   "cell_type": "markdown",
   "metadata": {},
   "source": [
    "The reflection exercise has 5 questions, 3 of which are key/mandatory:\n",
    "1. State ONE target application for this work. (key)\n",
    "2. Is your data/reward EXACTLY what you want to predict/classify/learn\n",
    "3. State ONE application of this work that you think is harmful. (key)\n",
    "4. State who or what is NOT represented in your data but is impacted by the results.\n",
    "5. These results are only valid FOR <list groups/conditions>. (key)"
   ]
  },
  {
   "cell_type": "markdown",
   "metadata": {},
   "source": [
    "## As a Ipywidget"
   ]
  },
  {
   "cell_type": "markdown",
   "metadata": {},
   "source": [
    "Considerations/TBD:\n",
    "\n",
    "1. Eventually this code will be invoked via a function call similar to Fastai widgets.\n",
    "2. Works well for users, but no way to feedback usefuless/issues etc.\n",
    "\n",
    "Credit: Dominodatalab (https://blog.dominodatalab.com/interactive-dashboards-in-jupyter/)"
   ]
  },
  {
   "cell_type": "code",
   "execution_count": 74,
   "metadata": {},
   "outputs": [],
   "source": [
    "reflections = [\n",
    "    'State ONE target application for this work.',\n",
    "    'Is your data/reward EXACTLY what you want to predict/classify/learn',\n",
    "    'State ONE application of this work that you think is harmful.',\n",
    "    'State who or what is NOT represented in your data but is impacted by the results.',\n",
    "    'These results are only valid FOR <list groups/conditions>.'\n",
    "]\n",
    "numreflections = len(reflections)\n",
    "#print(reflections, numreflections)"
   ]
  },
  {
   "cell_type": "code",
   "execution_count": 88,
   "metadata": {},
   "outputs": [
    {
     "name": "stdout",
     "output_type": "stream",
     "text": [
      "State ONE target application for this work.\n"
     ]
    },
    {
     "data": {
      "application/vnd.jupyter.widget-view+json": {
       "model_id": "2d8127080bc84693a220755904745780",
       "version_major": 2,
       "version_minor": 0
      },
      "text/plain": [
       "Text(value='')"
      ]
     },
     "metadata": {},
     "output_type": "display_data"
    },
    {
     "name": "stdout",
     "output_type": "stream",
     "text": [
      "Is your data/reward EXACTLY what you want to predict/classify/learn\n"
     ]
    },
    {
     "data": {
      "application/vnd.jupyter.widget-view+json": {
       "model_id": "8b96e599d4c046b4bfb18b152a8247b7",
       "version_major": 2,
       "version_minor": 0
      },
      "text/plain": [
       "Text(value='')"
      ]
     },
     "metadata": {},
     "output_type": "display_data"
    },
    {
     "name": "stdout",
     "output_type": "stream",
     "text": [
      "State ONE application of this work that you think is harmful.\n"
     ]
    },
    {
     "data": {
      "application/vnd.jupyter.widget-view+json": {
       "model_id": "6c0f03b51e2b4350945dea412ca6d616",
       "version_major": 2,
       "version_minor": 0
      },
      "text/plain": [
       "Text(value='')"
      ]
     },
     "metadata": {},
     "output_type": "display_data"
    },
    {
     "name": "stdout",
     "output_type": "stream",
     "text": [
      "State who or what is NOT represented in your data but is impacted by the results.\n"
     ]
    },
    {
     "data": {
      "application/vnd.jupyter.widget-view+json": {
       "model_id": "08b2c5bf5b4342cfacf40a60063c4e07",
       "version_major": 2,
       "version_minor": 0
      },
      "text/plain": [
       "Text(value='')"
      ]
     },
     "metadata": {},
     "output_type": "display_data"
    },
    {
     "name": "stdout",
     "output_type": "stream",
     "text": [
      "These results are only valid FOR <list groups/conditions>.\n"
     ]
    },
    {
     "data": {
      "application/vnd.jupyter.widget-view+json": {
       "model_id": "79e7444433b74315a717dca1529dca3c",
       "version_major": 2,
       "version_minor": 0
      },
      "text/plain": [
       "Text(value='')"
      ]
     },
     "metadata": {},
     "output_type": "display_data"
    },
    {
     "data": {
      "application/vnd.jupyter.widget-view+json": {
       "model_id": "f7dbda4ea8974c76b16c37d81e581b46",
       "version_major": 2,
       "version_minor": 0
      },
      "text/plain": [
       "Button(description='Done!', style=ButtonStyle())"
      ]
     },
     "metadata": {},
     "output_type": "display_data"
    }
   ],
   "source": [
    "from ipywidgets import widgets\n",
    "from IPython.display import display, clear_output\n",
    "\n",
    "alltexts = []\n",
    "\n",
    "def handle_text(textinstance):\n",
    "    #print(textinstance.value)\n",
    "    #textinstance.close()\n",
    "    return\n",
    "\n",
    "def handle_done(clickinstance):\n",
    "    for t in range(0, numreflections):\n",
    "        print(alltexts[t].value)\n",
    "        alltexts[t].close()\n",
    "        \n",
    "for r in range(0, numreflections):\n",
    "    print(reflections[r])\n",
    "    text = widgets.Text()\n",
    "    display(text)\n",
    "    alltexts.append(text)\n",
    "    #print(alltexts)\n",
    "\n",
    "for a in range(0, numreflections):\n",
    "    alltexts[a].on_submit(handle_text)\n",
    "\n",
    "button = widgets.Button(description=\"Done!\")\n",
    "display(button)\n",
    "button.on_click(handle_done)"
   ]
  },
  {
   "cell_type": "markdown",
   "metadata": {},
   "source": [
    "## As a Google Form"
   ]
  },
  {
   "cell_type": "markdown",
   "metadata": {},
   "source": [
    "Considerations/TBD:\n",
    "\n",
    "1. Need to find a way to post/print response locally via same submit button.\n",
    "2. Not ideal, unless there is value in collecting responses across all users to see if responses are meeting the intended goal of the tool.\n",
    "\n",
    "Credit: Briandk (https://gist.github.com/briandk/05ca0baee83a36c27889a0c5680d7d5f)"
   ]
  },
  {
   "cell_type": "code",
   "execution_count": 3,
   "metadata": {
    "scrolled": true
   },
   "outputs": [
    {
     "data": {
      "text/html": [
       "\n",
       "<iframe \n",
       "\tsrc=\"https://forms.gle/q9ezjT5MqtibVzJj7\" \n",
       "\twidth=\"100%\" \n",
       "\theight=\"1200px\" \n",
       "\tframeborder=\"0\" \n",
       "\tmarginheight=\"0\" \n",
       "\tmarginwidth=\"0\">\n",
       "\tLoading...\n",
       "</iframe>\n"
      ],
      "text/plain": [
       "<IPython.core.display.HTML object>"
      ]
     },
     "execution_count": 3,
     "metadata": {},
     "output_type": "execute_result"
    }
   ],
   "source": [
    "from IPython.display import HTML\n",
    "HTML(\n",
    "\"\"\"\n",
    "<iframe \n",
    "\tsrc=\"https://forms.gle/q9ezjT5MqtibVzJj7\" \n",
    "\twidth=\"100%\" \n",
    "\theight=\"1200px\" \n",
    "\tframeborder=\"0\" \n",
    "\tmarginheight=\"0\" \n",
    "\tmarginwidth=\"0\">\n",
    "\tLoading...\n",
    "</iframe>\n",
    "\"\"\"\n",
    ")"
   ]
  },
  {
   "cell_type": "markdown",
   "metadata": {},
   "source": [
    "## As an HTML form (TBD)"
   ]
  },
  {
   "cell_type": "code",
   "execution_count": 22,
   "metadata": {},
   "outputs": [
    {
     "data": {
      "text/html": [
       "<form action=\"#\">\n",
       "<textarea name=\"comments\" id=\"comments\" style=\"width:80%;height:90px;background-color:Beige;color:black;border:none;padding:2%;font:20px/30px sans-serif;\">\n",
       "State ONE target application for this work.\n",
       "</textarea>\n",
       "<input type=\"submit\" value=\"Submit\" style=\"background-color:olive;color:white;padding:5px;font-size:16px;border:none;padding:8px;\">\n",
       "</form>\n"
      ],
      "text/plain": [
       "<IPython.core.display.HTML object>"
      ]
     },
     "metadata": {},
     "output_type": "display_data"
    }
   ],
   "source": [
    "%%HTML\n",
    "<form action=\"#\">\n",
    "<textarea name=\"comments\" id=\"comments\" style=\"width:80%;height:90px;background-color:Beige;color:black;border:none;padding:2%;font:20px/30px sans-serif;\">\n",
    "State ONE target application for this work.\n",
    "</textarea>\n",
    "<input type=\"submit\" value=\"Submit\" style=\"background-color:olive;color:white;padding:5px;font-size:16px;border:none;padding:8px;\">\n",
    "</form>"
   ]
  },
  {
   "cell_type": "code",
   "execution_count": null,
   "metadata": {},
   "outputs": [],
   "source": []
  }
 ],
 "metadata": {
  "kernelspec": {
   "display_name": "Python 3",
   "language": "python",
   "name": "python3"
  },
  "language_info": {
   "codemirror_mode": {
    "name": "ipython",
    "version": 3
   },
   "file_extension": ".py",
   "mimetype": "text/x-python",
   "name": "python",
   "nbconvert_exporter": "python",
   "pygments_lexer": "ipython3",
   "version": "3.7.3"
  }
 },
 "nbformat": 4,
 "nbformat_minor": 2
}
